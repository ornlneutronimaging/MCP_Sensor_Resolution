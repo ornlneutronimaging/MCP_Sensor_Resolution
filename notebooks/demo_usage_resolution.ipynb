{
 "cells": [
  {
   "cell_type": "markdown",
   "id": "b9f56418",
   "metadata": {},
   "source": [
    "# Overview\n",
    "\n",
    "This notebook demonstrate how to use the `braggsr.resolution` module to analyze sensor resolution data.\n",
    "The module provides functions to read and process data, fit models to the data, and visualize the results."
   ]
  },
  {
   "cell_type": "code",
   "execution_count": null,
   "id": "d4090f92",
   "metadata": {},
   "outputs": [],
   "source": [
    "import numpy as np\n",
    "import matplotlib.pyplot as plt\n",
    "from pathlib import Path\n",
    "\n",
    "\n",
    "from braggsr.resolution import (\n",
    "  nr_normalized_data,\n",
    "  data_conversion,\n",
    "  horizontal_image_processing,\n",
    "  vert_image_processing,\n",
    "  image_recombine,\n",
    "  Canny_edges,\n",
    "  exp_edge_loc,\n",
    "  ROI_zones,\n",
    "  run_fit,\n",
    ")"
   ]
  },
  {
   "cell_type": "markdown",
   "id": "5b915df3",
   "metadata": {},
   "source": [
    "## Load Data and check for compatibility\n",
    "\n",
    "*This program is intended to work with Float32-type images (native format for TPX1 sensor), or, with modification, with those natively saved/previously converted uint8 images. For all other image types, "
   ]
  },
  {
   "cell_type": "code",
   "execution_count": null,
   "id": "7d52c216",
   "metadata": {},
   "outputs": [],
   "source": [
    "data_path = Path(\"/SNS/VENUS/IPTS-35945/shared/images_normalized/Gd Mask Normalization\")\n",
    "img_file_path = data_path / \"normalized_sample_7998_obs_8015/integrated.tif\"\n",
    "# Load the normalized data\n",
    "img = nr_normalized_data(img_file_path)"
   ]
  },
  {
   "cell_type": "markdown",
   "id": "d8686be6",
   "metadata": {},
   "source": [
    "quick sanity check"
   ]
  },
  {
   "cell_type": "code",
   "execution_count": null,
   "id": "e13ff57c",
   "metadata": {},
   "outputs": [],
   "source": [
    "fig,ax = plt.subplots(1, 1, figsize=(15,15))\n",
    "ax.imshow(img, cmap=\"gray\")\n",
    "\n",
    "print (img.shape, img.dtype)"
   ]
  },
  {
   "cell_type": "markdown",
   "id": "c627c939",
   "metadata": {},
   "source": [
    "## Processing image to identify edge locations\n",
    "\n",
    "*Utilizes OpenCV image processing to increase contrast along edges to prep image for Canny edge identification*"
   ]
  },
  {
   "cell_type": "code",
   "execution_count": null,
   "id": "c2ce5287",
   "metadata": {},
   "outputs": [],
   "source": [
    "gray_scale_img, blocksize, c_factor = data_conversion(\n",
    "  img,\n",
    "  alpha=0,\n",
    "  beta=255,\n",
    "  blocksize=15,\n",
    "  c_factor=0,\n",
    ")"
   ]
  },
  {
   "cell_type": "code",
   "execution_count": null,
   "id": "42ff0ac7",
   "metadata": {},
   "outputs": [],
   "source": [
    "plt.imshow(gray_scale_img, cmap='gray')\n",
    "plt.colorbar()"
   ]
  },
  {
   "cell_type": "code",
   "execution_count": null,
   "id": "26701e19",
   "metadata": {},
   "outputs": [],
   "source": [
    "# processing horizontal edges\n",
    "horizontal_img, h_scale_factor, blocksize_h, c_factor_h, kernel_size = horizontal_image_processing(\n",
    "  gray_scale_img,\n",
    "  h_scale_factor=30,\n",
    "  blocksize=3,\n",
    "  c_factor=0,\n",
    "  kernel_size=(2,2),\n",
    ")"
   ]
  },
  {
   "cell_type": "code",
   "execution_count": null,
   "id": "c23c6648",
   "metadata": {},
   "outputs": [],
   "source": [
    "plt.imshow(horizontal_img)"
   ]
  },
  {
   "cell_type": "code",
   "execution_count": null,
   "id": "23852948",
   "metadata": {},
   "outputs": [],
   "source": [
    "# processing vertical edges\n",
    "vertical_img, v_scale_factor, v_blocksize, v_c_factor, V_kernel_size = vert_image_processing(\n",
    "  gray_scale_img,\n",
    "  h_scale_factor=30,\n",
    "  blocksize=3,\n",
    "  c_factor=0,\n",
    "  kernel_size=(2,2),\n",
    "  )"
   ]
  },
  {
   "cell_type": "code",
   "execution_count": null,
   "id": "d2c2f238",
   "metadata": {},
   "outputs": [],
   "source": [
    "plt.imshow(vertical_img)"
   ]
  },
  {
   "cell_type": "code",
   "execution_count": null,
   "id": "582c5582",
   "metadata": {},
   "outputs": [],
   "source": [
    "stack_image = image_recombine(\n",
    "horizontal = horizontal_img,\n",
    "vertical= vertical_img,\n",
    "alpha=.5,\n",
    "beta=.5,\n",
    ")"
   ]
  },
  {
   "cell_type": "code",
   "execution_count": null,
   "id": "5de90bd3",
   "metadata": {},
   "outputs": [],
   "source": [
    "plt.imshow(stack_image)"
   ]
  },
  {
   "cell_type": "markdown",
   "id": "e71d2c63",
   "metadata": {},
   "source": [
    "## Canny Edge Detection\n",
    "\n",
    "*Detects edges and then exports them to a separate Numpy array*"
   ]
  },
  {
   "cell_type": "code",
   "execution_count": null,
   "id": "8c720951",
   "metadata": {},
   "outputs": [],
   "source": [
    "edges, x1, y1 = Canny_edges(\n",
    "    recombined_image=stack_image,\n",
    "    x1=110,\n",
    "    y1=100,\n",
    "    width1=130,\n",
    "    height1=215,\n",
    "    edges_left=0,\n",
    "    edges_right=150,\n",
    ")"
   ]
  },
  {
   "cell_type": "code",
   "execution_count": null,
   "id": "8096cca8",
   "metadata": {},
   "outputs": [],
   "source": [
    "plt.imshow(edges)"
   ]
  },
  {
   "cell_type": "code",
   "execution_count": null,
   "id": "56bc31dd",
   "metadata": {},
   "outputs": [],
   "source": [
    "edge_file = exp_edge_loc(\n",
    "    edges=edges,\n",
    "    x1=110,\n",
    "    y1=100,\n",
    ")"
   ]
  },
  {
   "cell_type": "code",
   "execution_count": null,
   "id": "281a69d7",
   "metadata": {},
   "outputs": [],
   "source": [
    "zones1, y1, l_lat_lim, r_lat_lim = ROI_zones(\n",
    "    edge_locations=edge_file,\n",
    "    x1=110,\n",
    "    y1=100,\n",
    "    left_range=5,\n",
    "    right_range=3,\n",
    ")"
   ]
  },
  {
   "cell_type": "markdown",
   "id": "ac7a9f1a",
   "metadata": {},
   "source": [
    "## Determine the resolution of the identified edge areas\n",
    "\n",
    "*Runs each zone through the process of establishing edge spread function, differntiating it, and then comparing fit based on 3 classical curve fitment models to develop best fit and outputs image spatial resolution*"
   ]
  },
  {
   "cell_type": "code",
   "execution_count": null,
   "id": "e78480b1",
   "metadata": {},
   "outputs": [],
   "source": [
    "avg_fwhm, spatial_resolution = run_fit(\n",
    "    zones=zones1,\n",
    "    y1=100,\n",
    "    left_lat_lim=l_lat_lim,\n",
    "    right_lat_lim=r_lat_lim,\n",
    "    data_path=img_file_path,\n",
    ")\n"
   ]
  },
  {
   "cell_type": "code",
   "execution_count": null,
   "id": "ab50e7f7",
   "metadata": {},
   "outputs": [],
   "source": [
    "print(\"The variable spatial_resolution is measured in mm, and full-width, half-maximum (FWHM) values are measured in pixels.\")"
   ]
  }
 ],
 "metadata": {
  "kernelspec": {
   "display_name": "default",
   "language": "python",
   "name": "python3"
  },
  "language_info": {
   "codemirror_mode": {
    "name": "ipython",
    "version": 3
   },
   "file_extension": ".py",
   "mimetype": "text/x-python",
   "name": "python",
   "nbconvert_exporter": "python",
   "pygments_lexer": "ipython3",
   "version": "3.13.5"
  }
 },
 "nbformat": 4,
 "nbformat_minor": 5
}
